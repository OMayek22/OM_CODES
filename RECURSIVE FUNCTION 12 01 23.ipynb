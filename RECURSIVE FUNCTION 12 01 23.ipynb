{
 "cells": [
  {
   "cell_type": "code",
   "execution_count": 7,
   "id": "aea906f9",
   "metadata": {},
   "outputs": [],
   "source": [
    "def fun1():\n",
    "    print(\"THIS IS FUN1\")\n",
    "def fun2():\n",
    "    fun1()\n",
    "    print(\"THIS IS FUN2\")\n",
    "    fun3()\n",
    "def fun3():\n",
    "    print(\"THIS IS FUN3\")\n",
    "    "
   ]
  },
  {
   "cell_type": "code",
   "execution_count": 9,
   "id": "8f58dd2e",
   "metadata": {},
   "outputs": [
    {
     "name": "stdout",
     "output_type": "stream",
     "text": [
      "THIS IS FUN1\n",
      "THIS IS FUN2\n",
      "THIS IS FUN3\n"
     ]
    }
   ],
   "source": [
    "fun2()#here function calls functions inside functions"
   ]
  },
  {
   "cell_type": "code",
   "execution_count": 16,
   "id": "def9361c",
   "metadata": {},
   "outputs": [],
   "source": [
    "#FACTORIAL USING RECURSIVE FUNCTIONS\n",
    "def fact(n):\n",
    "    if n==1:\n",
    "        return 1\n",
    "        \n",
    "    return n*fact(n-1)"
   ]
  },
  {
   "cell_type": "code",
   "execution_count": 17,
   "id": "f309c3a6",
   "metadata": {},
   "outputs": [
    {
     "data": {
      "text/plain": [
       "120"
      ]
     },
     "execution_count": 17,
     "metadata": {},
     "output_type": "execute_result"
    }
   ],
   "source": [
    "fact(5)"
   ]
  },
  {
   "cell_type": "code",
   "execution_count": null,
   "id": "735e249d",
   "metadata": {},
   "outputs": [],
   "source": [
    "def demo1(n):\n",
    "    if n==0:\n",
    "        return 0\n",
    "    return"
   ]
  },
  {
   "cell_type": "code",
   "execution_count": 14,
   "id": "e47928e9",
   "metadata": {},
   "outputs": [],
   "source": [
    "def fibo(n):\n",
    "    if n==0:\n",
    "        return 0\n",
    "    elif n==1:\n",
    "        return 1\n",
    "    return fibo(n-2)+fibo(n-1)\n",
    "\n",
    "    \n",
    "    \n",
    "    "
   ]
  },
  {
   "cell_type": "code",
   "execution_count": 15,
   "id": "cfc74d7e",
   "metadata": {},
   "outputs": [
    {
     "name": "stdout",
     "output_type": "stream",
     "text": [
      "0 1 1 2 3 5 8 13 21 34 "
     ]
    }
   ],
   "source": [
    "for i in range(10):\n",
    "    print (fibo(i),end=\" \")"
   ]
  },
  {
   "cell_type": "code",
   "execution_count": 1,
   "id": "9abf1740",
   "metadata": {},
   "outputs": [],
   "source": [
    "#write a function to find minimum value from list\n",
    "def minvalue():\n",
    "    list=int(input[\"ENTER YOUT NUMBERS\"])\n",
    "    H=0\n",
    "    L=0\n",
    "    for i in list:\n",
    "        if i>H:\n",
    "            i=H\n",
    "        elif i<L:\n",
    "            i=L\n",
    "    print(\"higher value is\")\n",
    "        \n",
    "    \n"
   ]
  },
  {
   "cell_type": "code",
   "execution_count": 3,
   "id": "d456113d",
   "metadata": {},
   "outputs": [
    {
     "ename": "TypeError",
     "evalue": "'method' object is not subscriptable",
     "output_type": "error",
     "traceback": [
      "\u001b[1;31m---------------------------------------------------------------------------\u001b[0m",
      "\u001b[1;31mTypeError\u001b[0m                                 Traceback (most recent call last)",
      "\u001b[1;32m~\\AppData\\Local\\Temp/ipykernel_4152/4067507361.py\u001b[0m in \u001b[0;36m<module>\u001b[1;34m\u001b[0m\n\u001b[1;32m----> 1\u001b[1;33m \u001b[0mminvalue\u001b[0m\u001b[1;33m(\u001b[0m\u001b[1;33m)\u001b[0m\u001b[1;33m\u001b[0m\u001b[1;33m\u001b[0m\u001b[0m\n\u001b[0m",
      "\u001b[1;32m~\\AppData\\Local\\Temp/ipykernel_4152/4223187217.py\u001b[0m in \u001b[0;36mminvalue\u001b[1;34m()\u001b[0m\n\u001b[0;32m      1\u001b[0m \u001b[1;31m#write a function to find minimum value from list\u001b[0m\u001b[1;33m\u001b[0m\u001b[1;33m\u001b[0m\u001b[0m\n\u001b[0;32m      2\u001b[0m \u001b[1;32mdef\u001b[0m \u001b[0mminvalue\u001b[0m\u001b[1;33m(\u001b[0m\u001b[1;33m)\u001b[0m\u001b[1;33m:\u001b[0m\u001b[1;33m\u001b[0m\u001b[1;33m\u001b[0m\u001b[0m\n\u001b[1;32m----> 3\u001b[1;33m     \u001b[0mlist\u001b[0m\u001b[1;33m=\u001b[0m\u001b[0mint\u001b[0m\u001b[1;33m(\u001b[0m\u001b[0minput\u001b[0m\u001b[1;33m[\u001b[0m\u001b[1;34m\"ENTER YOUT NUMBERS\"\u001b[0m\u001b[1;33m]\u001b[0m\u001b[1;33m)\u001b[0m\u001b[1;33m\u001b[0m\u001b[1;33m\u001b[0m\u001b[0m\n\u001b[0m\u001b[0;32m      4\u001b[0m     \u001b[0mH\u001b[0m\u001b[1;33m=\u001b[0m\u001b[1;36m0\u001b[0m\u001b[1;33m\u001b[0m\u001b[1;33m\u001b[0m\u001b[0m\n\u001b[0;32m      5\u001b[0m     \u001b[0mL\u001b[0m\u001b[1;33m=\u001b[0m\u001b[1;36m0\u001b[0m\u001b[1;33m\u001b[0m\u001b[1;33m\u001b[0m\u001b[0m\n",
      "\u001b[1;31mTypeError\u001b[0m: 'method' object is not subscriptable"
     ]
    }
   ],
   "source": [
    "minvalue()"
   ]
  },
  {
   "cell_type": "code",
   "execution_count": 38,
   "id": "44c16d10",
   "metadata": {},
   "outputs": [],
   "source": [
    "List=[1,2,5,4,36,-3,78,22]\n",
    "def minvalue(L):\n",
    "    L.sort()\n",
    "    return L[0]\n",
    "   \n",
    "\n",
    "    \n",
    "    \n",
    "    "
   ]
  },
  {
   "cell_type": "code",
   "execution_count": 52,
   "id": "d3cc5599",
   "metadata": {},
   "outputs": [],
   "source": [
    "List=[1,2,5,4,36,-3,78,22]\n",
    "lest=[1,22,45,32,676,54,3323,-1,-7]\n",
    "def minvalue2(L):\n",
    "    print(min(L))\n",
    "    "
   ]
  },
  {
   "cell_type": "code",
   "execution_count": 55,
   "id": "082ee427",
   "metadata": {},
   "outputs": [
    {
     "name": "stdout",
     "output_type": "stream",
     "text": [
      "-7\n"
     ]
    }
   ],
   "source": [
    "minvalue2(lest)"
   ]
  },
  {
   "cell_type": "code",
   "execution_count": null,
   "id": "0f54e4f9",
   "metadata": {},
   "outputs": [],
   "source": [
    "#lambda function\n",
    "#anonymous function"
   ]
  },
  {
   "cell_type": "code",
   "execution_count": 42,
   "id": "dc2d0a67",
   "metadata": {},
   "outputs": [],
   "source": [
    "add=lambda a,b:print(a+b)#lambda is used for functions which are small"
   ]
  },
  {
   "cell_type": "code",
   "execution_count": 43,
   "id": "e81ebea0",
   "metadata": {},
   "outputs": [
    {
     "name": "stdout",
     "output_type": "stream",
     "text": [
      "5\n"
     ]
    }
   ],
   "source": [
    "add(3,2)"
   ]
  },
  {
   "cell_type": "code",
   "execution_count": 51,
   "id": "10265caa",
   "metadata": {},
   "outputs": [
    {
     "name": "stdout",
     "output_type": "stream",
     "text": [
      "[6, 7, 8, 9, 10, 11, 12]\n"
     ]
    }
   ],
   "source": [
    "L=[1,2,3,4,5,6,7]\n",
    "def add5(L):\n",
    "    for i in range(len(L)):\n",
    "        L[i]=L[i]+5\n",
    "    print(L)\n",
    "add5(L)\n"
   ]
  },
  {
   "cell_type": "code",
   "execution_count": 49,
   "id": "deda46d7",
   "metadata": {},
   "outputs": [
    {
     "name": "stdout",
     "output_type": "stream",
     "text": [
      "12\n"
     ]
    }
   ],
   "source": [
    "add5(Lis)"
   ]
  }
 ],
 "metadata": {
  "kernelspec": {
   "display_name": "Python 3 (ipykernel)",
   "language": "python",
   "name": "python3"
  },
  "language_info": {
   "codemirror_mode": {
    "name": "ipython",
    "version": 3
   },
   "file_extension": ".py",
   "mimetype": "text/x-python",
   "name": "python",
   "nbconvert_exporter": "python",
   "pygments_lexer": "ipython3",
   "version": "3.9.7"
  }
 },
 "nbformat": 4,
 "nbformat_minor": 5
}
